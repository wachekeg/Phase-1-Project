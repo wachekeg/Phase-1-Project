{
 "cells": [
  {
   "cell_type": "markdown",
   "id": "9a17204d",
   "metadata": {},
   "source": [
    "# Analysis of Aircraft Incident Frequencies by Make and Model: Identifying Low-Risk Aircraft for Commercial and Private Operations"
   ]
  },
  {
   "cell_type": "markdown",
   "id": "9d853336",
   "metadata": {},
   "source": [
    "![Plane](Plane.jpg)"
   ]
  },
  {
   "cell_type": "markdown",
   "id": "39ba4386",
   "metadata": {},
   "source": [
    "## Introduction"
   ]
  },
  {
   "cell_type": "markdown",
   "id": "89ec4b33",
   "metadata": {},
   "source": [
    "This project analyzes Aviation Data collected between 1962 and 2023 to come up with useful insights to guide a company towards finding the lowest risk aircrafts for a new endeavor."
   ]
  },
  {
   "cell_type": "markdown",
   "id": "79c6d296",
   "metadata": {},
   "source": [
    "## Business Problem"
   ]
  },
  {
   "cell_type": "markdown",
   "id": "482cec9a",
   "metadata": {},
   "source": [
    "Our company is poised to enter the aviation industry by purchasing and managing aircraft for both private and commercial usage, with the goal of expanding its portfolio. Given the inherent dangers associated with aviation, it is imperative to comprehend these risks in order to make well-informed judgments. In order to ensure a safe and successful launch into the market, this project aims to deliver a data-driven examination of aviation safety with a particular focus on finding the lowest-risk aircraft."
   ]
  },
  {
   "cell_type": "markdown",
   "id": "26bfcec8",
   "metadata": {},
   "source": [
    "## Objective"
   ]
  },
  {
   "cell_type": "markdown",
   "id": "3387fcb6",
   "metadata": {},
   "source": [
    "The main objectives of this task are:\n",
    "\n",
    "1. **Data Preparation**\n",
    "2. **Risk Analysis and Identification**\n",
    "3. **Reporting and Recommendations**"
   ]
  },
  {
   "cell_type": "markdown",
   "id": "993cb803",
   "metadata": {},
   "source": [
    "## Data Understanding "
   ]
  },
  {
   "cell_type": "markdown",
   "id": "0446a213",
   "metadata": {},
   "source": [
    "The data used in this project is a dataset from the **National Transportation Safety Board** that includes aviation accident data from 1962 to 2023 about civil aviation accidents and selected incidents in the United States and international waters.\n",
    "\n",
    "The dataset contains 31 attributes and 90348 records. \n",
    "\n",
    "For the purpose of this analysis, the data was filtered to remain with the attributes and records that were relevant. The cleaned and filtered dataset used has 11 attributes and 61724 records.\n",
    "\n",
    "Here is a breakdown of the attributes and what they represent:\n",
    "\n",
    "- Event.Date - The date of incident occurence\n",
    "- Location - The location of incident occurence\n",
    "- Injury.Severity - The overall severity of the injuries resulting from the incident\n",
    "- Make - The manufacturer or brand that produces the aircraft\n",
    "- Model - The specific version or type of aircraft produced by a particular manufacturer\n",
    "- Purpose.of.flight - The reason for which the flight was being conducted at the time of the incident\n",
    "- Total.Fatal.Injuries - The number of fatalities resulting from the incident\n",
    "- Total.Serious.Injuries - The number of serious injuries sustained in the incident\n",
    "- Total.Minor.Injuries - The number of minor injuries resulting from the incident\n",
    "- Total.Uninjured - The number of individuals who were not injured in the incident\n",
    "- Broad.phase.of.flight - The general phase of flight during which the incident occurred"
   ]
  },
  {
   "cell_type": "markdown",
   "id": "9a890127",
   "metadata": {},
   "source": [
    "## 1. Data Preparation"
   ]
  },
  {
   "cell_type": "markdown",
   "id": "8612b9c1",
   "metadata": {},
   "source": [
    "### 1.1 Data Importation"
   ]
  },
  {
   "cell_type": "code",
   "execution_count": 1,
   "id": "f3c73791",
   "metadata": {
    "scrolled": true
   },
   "outputs": [],
   "source": [
    "import pandas as pd\n",
    "import seaborn as sns\n",
    "import matplotlib.pyplot as plt\n",
    "%matplotlib inline\n",
    "\n",
    "# Load the data from its directory\n",
    "aviation = pd.read_csv('Aviation_Data.csv', encoding='latin1', low_memory=False)\n",
    "#aviation.head(10)"
   ]
  },
  {
   "cell_type": "code",
   "execution_count": 2,
   "id": "a0f87d84",
   "metadata": {},
   "outputs": [
    {
     "name": "stdout",
     "output_type": "stream",
     "text": [
      "<class 'pandas.core.frame.DataFrame'>\n",
      "RangeIndex: 90348 entries, 0 to 90347\n",
      "Data columns (total 31 columns):\n",
      " #   Column                  Non-Null Count  Dtype  \n",
      "---  ------                  --------------  -----  \n",
      " 0   Event.Id                88889 non-null  object \n",
      " 1   Investigation.Type      90348 non-null  object \n",
      " 2   Accident.Number         88889 non-null  object \n",
      " 3   Event.Date              88889 non-null  object \n",
      " 4   Location                88837 non-null  object \n",
      " 5   Country                 88663 non-null  object \n",
      " 6   Latitude                34382 non-null  object \n",
      " 7   Longitude               34373 non-null  object \n",
      " 8   Airport.Code            50132 non-null  object \n",
      " 9   Airport.Name            52704 non-null  object \n",
      " 10  Injury.Severity         87889 non-null  object \n",
      " 11  Aircraft.damage         85695 non-null  object \n",
      " 12  Aircraft.Category       32287 non-null  object \n",
      " 13  Registration.Number     87507 non-null  object \n",
      " 14  Make                    88826 non-null  object \n",
      " 15  Model                   88797 non-null  object \n",
      " 16  Amateur.Built           88787 non-null  object \n",
      " 17  Number.of.Engines       82805 non-null  float64\n",
      " 18  Engine.Type             81793 non-null  object \n",
      " 19  FAR.Description         32023 non-null  object \n",
      " 20  Schedule                12582 non-null  object \n",
      " 21  Purpose.of.flight       82697 non-null  object \n",
      " 22  Air.carrier             16648 non-null  object \n",
      " 23  Total.Fatal.Injuries    77488 non-null  float64\n",
      " 24  Total.Serious.Injuries  76379 non-null  float64\n",
      " 25  Total.Minor.Injuries    76956 non-null  float64\n",
      " 26  Total.Uninjured         82977 non-null  float64\n",
      " 27  Weather.Condition       84397 non-null  object \n",
      " 28  Broad.phase.of.flight   61724 non-null  object \n",
      " 29  Report.Status           82505 non-null  object \n",
      " 30  Publication.Date        73659 non-null  object \n",
      "dtypes: float64(5), object(26)\n",
      "memory usage: 21.4+ MB\n"
     ]
    }
   ],
   "source": [
    "# Examine the data to identify its shape, and how many missing values are therein\n",
    "aviation.info()"
   ]
  },
  {
   "cell_type": "markdown",
   "id": "68a812af",
   "metadata": {},
   "source": [
    "### 1.2 Data Cleaning"
   ]
  },
  {
   "cell_type": "markdown",
   "id": "bf903df3",
   "metadata": {},
   "source": [
    "This sub category will include:\n",
    "\n",
    "- Removing irrelevant columns\n",
    "- Handling of missing data\n",
    "- Data Transformation"
   ]
  },
  {
   "cell_type": "markdown",
   "id": "db028a42",
   "metadata": {},
   "source": [
    "- Removing irrelevant columns"
   ]
  },
  {
   "cell_type": "code",
   "execution_count": 3,
   "id": "17dffe4d",
   "metadata": {},
   "outputs": [],
   "source": [
    "# Remove irrelevant columns to remain witha smaller dataset\n",
    "irrelevant_columns = ['Publication.Date', 'Report.Status', 'Engine.Type', 'Number.of.Engines', 'Amateur.Built', 'Registration.Number', 'Aircraft.damage',\n",
    "                      'Airport.Name', 'Airport.Code', 'Accident.Number', 'Investigation.Type', 'Event.Id', 'Country', 'Weather.Condition']\n",
    "aviation = aviation.drop(columns=irrelevant_columns)"
   ]
  },
  {
   "cell_type": "markdown",
   "id": "5a791c5a",
   "metadata": {},
   "source": [
    "- Handling of missing data\n",
    "\n",
    "From the dataset, there are several columns with a high percentage of missing values. A threshold of 50% shall be used to drop these columns"
   ]
  },
  {
   "cell_type": "code",
   "execution_count": 4,
   "id": "d051c6b4",
   "metadata": {},
   "outputs": [
    {
     "name": "stdout",
     "output_type": "stream",
     "text": [
      "<class 'pandas.core.frame.DataFrame'>\n",
      "RangeIndex: 90348 entries, 0 to 90347\n",
      "Data columns (total 11 columns):\n",
      " #   Column                  Non-Null Count  Dtype  \n",
      "---  ------                  --------------  -----  \n",
      " 0   Event.Date              88889 non-null  object \n",
      " 1   Location                88837 non-null  object \n",
      " 2   Injury.Severity         87889 non-null  object \n",
      " 3   Make                    88826 non-null  object \n",
      " 4   Model                   88797 non-null  object \n",
      " 5   Purpose.of.flight       82697 non-null  object \n",
      " 6   Total.Fatal.Injuries    77488 non-null  float64\n",
      " 7   Total.Serious.Injuries  76379 non-null  float64\n",
      " 8   Total.Minor.Injuries    76956 non-null  float64\n",
      " 9   Total.Uninjured         82977 non-null  float64\n",
      " 10  Broad.phase.of.flight   61724 non-null  object \n",
      "dtypes: float64(4), object(7)\n",
      "memory usage: 7.6+ MB\n"
     ]
    }
   ],
   "source": [
    "# Use a threshold of 50% to drop columns with a higher percentage of missing values\n",
    "threshold = 50\n",
    "missing_percentage = aviation.isnull().mean() *100\n",
    "columns_to_drop = missing_percentage[missing_percentage > threshold].index\n",
    "aviation = aviation.drop(columns=columns_to_drop)\n",
    "aviation.info()"
   ]
  },
  {
   "cell_type": "code",
   "execution_count": 5,
   "id": "6a175fbf",
   "metadata": {},
   "outputs": [
    {
     "name": "stdout",
     "output_type": "stream",
     "text": [
      "<class 'pandas.core.frame.DataFrame'>\n",
      "Index: 88889 entries, 0 to 90347\n",
      "Data columns (total 11 columns):\n",
      " #   Column                  Non-Null Count  Dtype  \n",
      "---  ------                  --------------  -----  \n",
      " 0   Event.Date              88889 non-null  object \n",
      " 1   Location                88837 non-null  object \n",
      " 2   Injury.Severity         87889 non-null  object \n",
      " 3   Make                    88826 non-null  object \n",
      " 4   Model                   88797 non-null  object \n",
      " 5   Purpose.of.flight       82697 non-null  object \n",
      " 6   Total.Fatal.Injuries    77488 non-null  float64\n",
      " 7   Total.Serious.Injuries  76379 non-null  float64\n",
      " 8   Total.Minor.Injuries    76956 non-null  float64\n",
      " 9   Total.Uninjured         82977 non-null  float64\n",
      " 10  Broad.phase.of.flight   61724 non-null  object \n",
      "dtypes: float64(4), object(7)\n",
      "memory usage: 8.1+ MB\n"
     ]
    }
   ],
   "source": [
    "#Drop the missing rows in the 'Event.Date' column to remain with relevant data\n",
    "\n",
    "aviation = aviation.dropna(axis=0, subset= ['Event.Date'])\n",
    "aviation.info()"
   ]
  },
  {
   "cell_type": "markdown",
   "id": "d79d693d",
   "metadata": {},
   "source": [
    "Having fewer relevant columns to work with, each column with missing values can now be handled individually. "
   ]
  },
  {
   "cell_type": "markdown",
   "id": "51319dec",
   "metadata": {},
   "source": [
    "The 'Broad.Phase.of.Flight' has many missing records. However, dropping these records will result in losing alot of meaningful data, including the date of incidence occurence. The missing values will thus be replaced with 'Unknown' for the purpose of data completeness"
   ]
  },
  {
   "cell_type": "code",
   "execution_count": 6,
   "id": "a95d5f99",
   "metadata": {},
   "outputs": [
    {
     "name": "stdout",
     "output_type": "stream",
     "text": [
      "<class 'pandas.core.frame.DataFrame'>\n",
      "Index: 88889 entries, 0 to 90347\n",
      "Data columns (total 11 columns):\n",
      " #   Column                  Non-Null Count  Dtype  \n",
      "---  ------                  --------------  -----  \n",
      " 0   Event.Date              88889 non-null  object \n",
      " 1   Location                88837 non-null  object \n",
      " 2   Injury.Severity         87889 non-null  object \n",
      " 3   Make                    88826 non-null  object \n",
      " 4   Model                   88797 non-null  object \n",
      " 5   Purpose.of.flight       82697 non-null  object \n",
      " 6   Total.Fatal.Injuries    77488 non-null  float64\n",
      " 7   Total.Serious.Injuries  76379 non-null  float64\n",
      " 8   Total.Minor.Injuries    76956 non-null  float64\n",
      " 9   Total.Uninjured         82977 non-null  float64\n",
      " 10  Broad.phase.of.flight   88889 non-null  object \n",
      "dtypes: float64(4), object(7)\n",
      "memory usage: 8.1+ MB\n"
     ]
    }
   ],
   "source": [
    "# Replace the missing values in the column with 'Unknown'\n",
    "aviation['Broad.phase.of.flight'] = aviation['Broad.phase.of.flight'].fillna('Unknown')\n",
    "aviation.info()"
   ]
  },
  {
   "cell_type": "markdown",
   "id": "b428cf9a",
   "metadata": {},
   "source": [
    "Next, the NaN values in the 'Purpose.of.flight' column will be replaced with the string 'Unknown' to ensure data completeness. These will not be dropped since they are few, and will not interfere with the integrity of the data. The same will be done for the 'Location', 'Model', 'Injury.Severity' and 'Make' columns."
   ]
  },
  {
   "cell_type": "code",
   "execution_count": 7,
   "id": "463a64ed",
   "metadata": {},
   "outputs": [
    {
     "name": "stdout",
     "output_type": "stream",
     "text": [
      "<class 'pandas.core.frame.DataFrame'>\n",
      "Index: 88889 entries, 0 to 90347\n",
      "Data columns (total 11 columns):\n",
      " #   Column                  Non-Null Count  Dtype  \n",
      "---  ------                  --------------  -----  \n",
      " 0   Event.Date              88889 non-null  object \n",
      " 1   Location                88837 non-null  object \n",
      " 2   Injury.Severity         87889 non-null  object \n",
      " 3   Make                    88826 non-null  object \n",
      " 4   Model                   88797 non-null  object \n",
      " 5   Purpose.of.flight       88889 non-null  object \n",
      " 6   Total.Fatal.Injuries    77488 non-null  float64\n",
      " 7   Total.Serious.Injuries  76379 non-null  float64\n",
      " 8   Total.Minor.Injuries    76956 non-null  float64\n",
      " 9   Total.Uninjured         82977 non-null  float64\n",
      " 10  Broad.phase.of.flight   88889 non-null  object \n",
      "dtypes: float64(4), object(7)\n",
      "memory usage: 8.1+ MB\n"
     ]
    }
   ],
   "source": [
    "# Replace the missing values in the column with 'Unknown'\n",
    "aviation['Purpose.of.flight'] = aviation['Purpose.of.flight'].fillna('Unknown')\n",
    "aviation.info()"
   ]
  },
  {
   "cell_type": "code",
   "execution_count": 8,
   "id": "a4deab72",
   "metadata": {},
   "outputs": [
    {
     "name": "stdout",
     "output_type": "stream",
     "text": [
      "<class 'pandas.core.frame.DataFrame'>\n",
      "Index: 88889 entries, 0 to 90347\n",
      "Data columns (total 11 columns):\n",
      " #   Column                  Non-Null Count  Dtype  \n",
      "---  ------                  --------------  -----  \n",
      " 0   Event.Date              88889 non-null  object \n",
      " 1   Location                88837 non-null  object \n",
      " 2   Injury.Severity         87889 non-null  object \n",
      " 3   Make                    88826 non-null  object \n",
      " 4   Model                   88889 non-null  object \n",
      " 5   Purpose.of.flight       88889 non-null  object \n",
      " 6   Total.Fatal.Injuries    77488 non-null  float64\n",
      " 7   Total.Serious.Injuries  76379 non-null  float64\n",
      " 8   Total.Minor.Injuries    76956 non-null  float64\n",
      " 9   Total.Uninjured         82977 non-null  float64\n",
      " 10  Broad.phase.of.flight   88889 non-null  object \n",
      "dtypes: float64(4), object(7)\n",
      "memory usage: 8.1+ MB\n"
     ]
    }
   ],
   "source": [
    "# Replace the missing values in the column with 'Unknown'\n",
    "aviation['Model'] = aviation['Model'].fillna('Unknown')\n",
    "aviation.info()"
   ]
  },
  {
   "cell_type": "code",
   "execution_count": 9,
   "id": "01030b75",
   "metadata": {},
   "outputs": [
    {
     "name": "stdout",
     "output_type": "stream",
     "text": [
      "<class 'pandas.core.frame.DataFrame'>\n",
      "Index: 88889 entries, 0 to 90347\n",
      "Data columns (total 11 columns):\n",
      " #   Column                  Non-Null Count  Dtype  \n",
      "---  ------                  --------------  -----  \n",
      " 0   Event.Date              88889 non-null  object \n",
      " 1   Location                88889 non-null  object \n",
      " 2   Injury.Severity         87889 non-null  object \n",
      " 3   Make                    88826 non-null  object \n",
      " 4   Model                   88889 non-null  object \n",
      " 5   Purpose.of.flight       88889 non-null  object \n",
      " 6   Total.Fatal.Injuries    77488 non-null  float64\n",
      " 7   Total.Serious.Injuries  76379 non-null  float64\n",
      " 8   Total.Minor.Injuries    76956 non-null  float64\n",
      " 9   Total.Uninjured         82977 non-null  float64\n",
      " 10  Broad.phase.of.flight   88889 non-null  object \n",
      "dtypes: float64(4), object(7)\n",
      "memory usage: 8.1+ MB\n"
     ]
    }
   ],
   "source": [
    "# Replace the missing values in the column with 'Unknown'\n",
    "aviation['Location'] = aviation['Location'].fillna('Unknown')\n",
    "aviation.info()"
   ]
  },
  {
   "cell_type": "code",
   "execution_count": 10,
   "id": "49db9995",
   "metadata": {
    "scrolled": true
   },
   "outputs": [
    {
     "name": "stdout",
     "output_type": "stream",
     "text": [
      "<class 'pandas.core.frame.DataFrame'>\n",
      "Index: 88889 entries, 0 to 90347\n",
      "Data columns (total 11 columns):\n",
      " #   Column                  Non-Null Count  Dtype  \n",
      "---  ------                  --------------  -----  \n",
      " 0   Event.Date              88889 non-null  object \n",
      " 1   Location                88889 non-null  object \n",
      " 2   Injury.Severity         87889 non-null  object \n",
      " 3   Make                    88889 non-null  object \n",
      " 4   Model                   88889 non-null  object \n",
      " 5   Purpose.of.flight       88889 non-null  object \n",
      " 6   Total.Fatal.Injuries    77488 non-null  float64\n",
      " 7   Total.Serious.Injuries  76379 non-null  float64\n",
      " 8   Total.Minor.Injuries    76956 non-null  float64\n",
      " 9   Total.Uninjured         82977 non-null  float64\n",
      " 10  Broad.phase.of.flight   88889 non-null  object \n",
      "dtypes: float64(4), object(7)\n",
      "memory usage: 8.1+ MB\n"
     ]
    }
   ],
   "source": [
    "# Replace the missing values in the column with 'Unknown'\n",
    "aviation['Make'] = aviation['Make'].fillna('Unknown')\n",
    "aviation.info()"
   ]
  },
  {
   "cell_type": "code",
   "execution_count": 11,
   "id": "05165696",
   "metadata": {},
   "outputs": [
    {
     "name": "stdout",
     "output_type": "stream",
     "text": [
      "<class 'pandas.core.frame.DataFrame'>\n",
      "Index: 88889 entries, 0 to 90347\n",
      "Data columns (total 11 columns):\n",
      " #   Column                  Non-Null Count  Dtype  \n",
      "---  ------                  --------------  -----  \n",
      " 0   Event.Date              88889 non-null  object \n",
      " 1   Location                88889 non-null  object \n",
      " 2   Injury.Severity         88889 non-null  object \n",
      " 3   Make                    88889 non-null  object \n",
      " 4   Model                   88889 non-null  object \n",
      " 5   Purpose.of.flight       88889 non-null  object \n",
      " 6   Total.Fatal.Injuries    77488 non-null  float64\n",
      " 7   Total.Serious.Injuries  76379 non-null  float64\n",
      " 8   Total.Minor.Injuries    76956 non-null  float64\n",
      " 9   Total.Uninjured         82977 non-null  float64\n",
      " 10  Broad.phase.of.flight   88889 non-null  object \n",
      "dtypes: float64(4), object(7)\n",
      "memory usage: 8.1+ MB\n"
     ]
    }
   ],
   "source": [
    "# Replace the missing values in the column with 'Unknown'\n",
    "aviation['Injury.Severity'] = aviation['Injury.Severity'].fillna('Unknown')\n",
    "aviation.info()"
   ]
  },
  {
   "cell_type": "markdown",
   "id": "f4e84485",
   "metadata": {},
   "source": [
    "Next, missing values in the 'Total.Fatal.Injuries', 'Total.Serious.Injuries', 'Total.Minor.Injuries', and 'Total.Uninjured' columns will be handled by replacing them with the median for their respective columns"
   ]
  },
  {
   "cell_type": "code",
   "execution_count": 12,
   "id": "8031e18c",
   "metadata": {},
   "outputs": [],
   "source": [
    "# Compute the median for each of the 4 columns\n",
    "median_fatal_injuries = aviation['Total.Fatal.Injuries'].median()\n",
    "median_serious_injuries = aviation['Total.Serious.Injuries'].median()\n",
    "median_minor_injuries = aviation['Total.Minor.Injuries'].median()\n",
    "median_uninjuired = aviation['Total.Uninjured'].median()"
   ]
  },
  {
   "cell_type": "code",
   "execution_count": 13,
   "id": "1c58d5aa",
   "metadata": {},
   "outputs": [],
   "source": [
    "# Impute the median values for the 4 columns\n",
    "aviation['Total.Fatal.Injuries'] = aviation['Total.Fatal.Injuries'].fillna(median_fatal_injuries)\n",
    "aviation['Total.Serious.Injuries'] = aviation['Total.Serious.Injuries'].fillna(median_serious_injuries)\n",
    "aviation['Total.Minor.Injuries'] = aviation['Total.Minor.Injuries'].fillna(median_minor_injuries)\n",
    "aviation['Total.Uninjured'] = aviation['Total.Uninjured'].fillna(median_uninjuired)"
   ]
  },
  {
   "cell_type": "markdown",
   "id": "979b44e4",
   "metadata": {},
   "source": [
    "- Data Transformation"
   ]
  },
  {
   "cell_type": "code",
   "execution_count": 14,
   "id": "0bc25249",
   "metadata": {
    "scrolled": true
   },
   "outputs": [
    {
     "name": "stdout",
     "output_type": "stream",
     "text": [
      "<class 'pandas.core.frame.DataFrame'>\n",
      "Index: 88889 entries, 0 to 90347\n",
      "Data columns (total 11 columns):\n",
      " #   Column                  Non-Null Count  Dtype         \n",
      "---  ------                  --------------  -----         \n",
      " 0   Event.Date              88889 non-null  datetime64[ns]\n",
      " 1   Location                88889 non-null  object        \n",
      " 2   Injury.Severity         88889 non-null  object        \n",
      " 3   Make                    88889 non-null  object        \n",
      " 4   Model                   88889 non-null  object        \n",
      " 5   Purpose.of.flight       88889 non-null  object        \n",
      " 6   Total.Fatal.Injuries    88889 non-null  float64       \n",
      " 7   Total.Serious.Injuries  88889 non-null  float64       \n",
      " 8   Total.Minor.Injuries    88889 non-null  float64       \n",
      " 9   Total.Uninjured         88889 non-null  float64       \n",
      " 10  Broad.phase.of.flight   88889 non-null  object        \n",
      "dtypes: datetime64[ns](1), float64(4), object(6)\n",
      "memory usage: 8.1+ MB\n"
     ]
    }
   ],
   "source": [
    "#Convert 'Event.Date' to datetime\n",
    "aviation['Event.Date'] = pd.to_datetime(aviation['Event.Date'])\n",
    "aviation.info()"
   ]
  },
  {
   "cell_type": "code",
   "execution_count": 15,
   "id": "3099606c",
   "metadata": {},
   "outputs": [],
   "source": [
    "#Export the cleaned data to excel for visualization in Tableau\n",
    "aviation.to_excel('cleaned_aviation_data.xlsx', index=False)"
   ]
  },
  {
   "cell_type": "markdown",
   "id": "73c79907",
   "metadata": {},
   "source": [
    "## 2.0 Risk Analysis and Identification"
   ]
  },
  {
   "cell_type": "markdown",
   "id": "5d510a7c",
   "metadata": {},
   "source": [
    "Now to be able to establish which aircrafts are the lowest risk for the company to begin this endeavor, we need to carry out some analysis\n",
    "\n",
    "In particular, this session will look into:\n",
    "\n",
    "- Analysis of Injury Severity by Aircraft Make and Model\n",
    "\n",
    "- Survivability Analysis by Aircraft Make\n",
    "\n",
    "- Incident Frequency by Aircraft Make\n",
    "\n",
    "- Time Trend Analysis of Incidents\n",
    "\n",
    "- Injury Severity by Broad Phase of Flight\n",
    "\n",
    "- Analysis of risks associated with Purpose of Flight\n"
   ]
  },
  {
   "cell_type": "markdown",
   "id": "c732eb66",
   "metadata": {},
   "source": [
    "### 2.1 Analysis of injury severity by Aircraft Make and Model\n",
    "\n",
    "This analysis aims to find out which makes and models of aircraft have the highest and lowest rates of major, minor, and fatal injuries."
   ]
  },
  {
   "cell_type": "code",
   "execution_count": 16,
   "id": "8d742b3e",
   "metadata": {},
   "outputs": [
    {
     "data": {
      "text/html": [
       "<div>\n",
       "<style scoped>\n",
       "    .dataframe tbody tr th:only-of-type {\n",
       "        vertical-align: middle;\n",
       "    }\n",
       "\n",
       "    .dataframe tbody tr th {\n",
       "        vertical-align: top;\n",
       "    }\n",
       "\n",
       "    .dataframe thead th {\n",
       "        text-align: right;\n",
       "    }\n",
       "</style>\n",
       "<table border=\"1\" class=\"dataframe\">\n",
       "  <thead>\n",
       "    <tr style=\"text-align: right;\">\n",
       "      <th></th>\n",
       "      <th>Make</th>\n",
       "      <th>Model</th>\n",
       "      <th>Total.Fatal.Injuries</th>\n",
       "      <th>Total.Serious.Injuries</th>\n",
       "      <th>Total.Minor.Injuries</th>\n",
       "    </tr>\n",
       "  </thead>\n",
       "  <tbody>\n",
       "    <tr>\n",
       "      <th>0</th>\n",
       "      <td>107.5 Flying Corporation</td>\n",
       "      <td>One Design DR 107</td>\n",
       "      <td>1.0</td>\n",
       "      <td>0.0</td>\n",
       "      <td>0.0</td>\n",
       "    </tr>\n",
       "    <tr>\n",
       "      <th>1</th>\n",
       "      <td>1200</td>\n",
       "      <td>G103</td>\n",
       "      <td>0.0</td>\n",
       "      <td>1.0</td>\n",
       "      <td>0.0</td>\n",
       "    </tr>\n",
       "    <tr>\n",
       "      <th>2</th>\n",
       "      <td>177MF LLC</td>\n",
       "      <td>PITTS MODEL 12</td>\n",
       "      <td>0.0</td>\n",
       "      <td>2.0</td>\n",
       "      <td>0.0</td>\n",
       "    </tr>\n",
       "    <tr>\n",
       "      <th>3</th>\n",
       "      <td>1977 Colfer-chan</td>\n",
       "      <td>STEEN SKYBOLT</td>\n",
       "      <td>0.0</td>\n",
       "      <td>0.0</td>\n",
       "      <td>1.0</td>\n",
       "    </tr>\n",
       "    <tr>\n",
       "      <th>4</th>\n",
       "      <td>1st Ftr Gp</td>\n",
       "      <td>FOCKE-WULF 190</td>\n",
       "      <td>1.0</td>\n",
       "      <td>0.0</td>\n",
       "      <td>0.0</td>\n",
       "    </tr>\n",
       "  </tbody>\n",
       "</table>\n",
       "</div>"
      ],
      "text/plain": [
       "                       Make              Model  Total.Fatal.Injuries  \\\n",
       "0  107.5 Flying Corporation  One Design DR 107                   1.0   \n",
       "1                      1200               G103                   0.0   \n",
       "2                 177MF LLC     PITTS MODEL 12                   0.0   \n",
       "3          1977 Colfer-chan      STEEN SKYBOLT                   0.0   \n",
       "4                1st Ftr Gp     FOCKE-WULF 190                   1.0   \n",
       "\n",
       "   Total.Serious.Injuries  Total.Minor.Injuries  \n",
       "0                     0.0                   0.0  \n",
       "1                     1.0                   0.0  \n",
       "2                     2.0                   0.0  \n",
       "3                     0.0                   1.0  \n",
       "4                     0.0                   0.0  "
      ]
     },
     "execution_count": 16,
     "metadata": {},
     "output_type": "execute_result"
    }
   ],
   "source": [
    "# Calculate the sum of injuries by make and model and store in a new dataframe\n",
    "injury_info = aviation.groupby(['Make', 'Model']).agg({\n",
    "    'Total.Fatal.Injuries': 'sum',\n",
    "    'Total.Serious.Injuries': 'sum',\n",
    "    'Total.Minor.Injuries': 'sum'\n",
    "}).reset_index()\n",
    "\n",
    "injury_info.head()"
   ]
  },
  {
   "cell_type": "code",
   "execution_count": 17,
   "id": "aa045681",
   "metadata": {
    "scrolled": false
   },
   "outputs": [],
   "source": [
    "#create a new column in the new dataframe to show the total injuries\n",
    "injury_info['Total_Injuries'] = injury_info[['Total.Fatal.Injuries', 'Total.Serious.Injuries', 'Total.Minor.Injuries']].sum(axis=1)\n",
    "#injury_info.head()"
   ]
  },
  {
   "cell_type": "code",
   "execution_count": 18,
   "id": "107660c9",
   "metadata": {
    "scrolled": true
   },
   "outputs": [
    {
     "data": {
      "text/html": [
       "<div>\n",
       "<style scoped>\n",
       "    .dataframe tbody tr th:only-of-type {\n",
       "        vertical-align: middle;\n",
       "    }\n",
       "\n",
       "    .dataframe tbody tr th {\n",
       "        vertical-align: top;\n",
       "    }\n",
       "\n",
       "    .dataframe thead th {\n",
       "        text-align: right;\n",
       "    }\n",
       "</style>\n",
       "<table border=\"1\" class=\"dataframe\">\n",
       "  <thead>\n",
       "    <tr style=\"text-align: right;\">\n",
       "      <th></th>\n",
       "      <th>Make</th>\n",
       "      <th>Model</th>\n",
       "      <th>Total.Fatal.Injuries</th>\n",
       "      <th>Total.Serious.Injuries</th>\n",
       "      <th>Total.Minor.Injuries</th>\n",
       "      <th>Total_Injuries</th>\n",
       "    </tr>\n",
       "  </thead>\n",
       "  <tbody>\n",
       "    <tr>\n",
       "      <th>10093</th>\n",
       "      <td>HENDRICKS GEORGE DAVID JR</td>\n",
       "      <td>RV8</td>\n",
       "      <td>0.0</td>\n",
       "      <td>0.0</td>\n",
       "      <td>0.0</td>\n",
       "      <td>0.0</td>\n",
       "    </tr>\n",
       "    <tr>\n",
       "      <th>5377</th>\n",
       "      <td>CONSOLIDATED AERONAUTICS INC.</td>\n",
       "      <td>LAKE LA 4 200</td>\n",
       "      <td>0.0</td>\n",
       "      <td>0.0</td>\n",
       "      <td>0.0</td>\n",
       "      <td>0.0</td>\n",
       "    </tr>\n",
       "    <tr>\n",
       "      <th>12062</th>\n",
       "      <td>Let</td>\n",
       "      <td>L-23</td>\n",
       "      <td>0.0</td>\n",
       "      <td>0.0</td>\n",
       "      <td>0.0</td>\n",
       "      <td>0.0</td>\n",
       "    </tr>\n",
       "    <tr>\n",
       "      <th>8949</th>\n",
       "      <td>Flurry</td>\n",
       "      <td>AVENTURA II</td>\n",
       "      <td>0.0</td>\n",
       "      <td>0.0</td>\n",
       "      <td>0.0</td>\n",
       "      <td>0.0</td>\n",
       "    </tr>\n",
       "    <tr>\n",
       "      <th>5374</th>\n",
       "      <td>CONSOLIDATED AERONAUTICS</td>\n",
       "      <td>LAKE LA4-200</td>\n",
       "      <td>0.0</td>\n",
       "      <td>0.0</td>\n",
       "      <td>0.0</td>\n",
       "      <td>0.0</td>\n",
       "    </tr>\n",
       "    <tr>\n",
       "      <th>5373</th>\n",
       "      <td>CONSOLIDATED  AERONAUTICS INC.</td>\n",
       "      <td>LAKE LA-4</td>\n",
       "      <td>0.0</td>\n",
       "      <td>0.0</td>\n",
       "      <td>0.0</td>\n",
       "      <td>0.0</td>\n",
       "    </tr>\n",
       "    <tr>\n",
       "      <th>5372</th>\n",
       "      <td>CONRAD THEODORE J</td>\n",
       "      <td>THORP T-18</td>\n",
       "      <td>0.0</td>\n",
       "      <td>0.0</td>\n",
       "      <td>0.0</td>\n",
       "      <td>0.0</td>\n",
       "    </tr>\n",
       "    <tr>\n",
       "      <th>5371</th>\n",
       "      <td>CONNER LEROY</td>\n",
       "      <td>RV6A</td>\n",
       "      <td>0.0</td>\n",
       "      <td>0.0</td>\n",
       "      <td>0.0</td>\n",
       "      <td>0.0</td>\n",
       "    </tr>\n",
       "    <tr>\n",
       "      <th>8950</th>\n",
       "      <td>Fly Baby</td>\n",
       "      <td>1-A</td>\n",
       "      <td>0.0</td>\n",
       "      <td>0.0</td>\n",
       "      <td>0.0</td>\n",
       "      <td>0.0</td>\n",
       "    </tr>\n",
       "    <tr>\n",
       "      <th>15468</th>\n",
       "      <td>Pitts</td>\n",
       "      <td>SPECIAL 51C</td>\n",
       "      <td>0.0</td>\n",
       "      <td>0.0</td>\n",
       "      <td>0.0</td>\n",
       "      <td>0.0</td>\n",
       "    </tr>\n",
       "  </tbody>\n",
       "</table>\n",
       "</div>"
      ],
      "text/plain": [
       "                                 Make          Model  Total.Fatal.Injuries  \\\n",
       "10093       HENDRICKS GEORGE DAVID JR            RV8                   0.0   \n",
       "5377    CONSOLIDATED AERONAUTICS INC.  LAKE LA 4 200                   0.0   \n",
       "12062                             Let           L-23                   0.0   \n",
       "8949                           Flurry    AVENTURA II                   0.0   \n",
       "5374         CONSOLIDATED AERONAUTICS   LAKE LA4-200                   0.0   \n",
       "5373   CONSOLIDATED  AERONAUTICS INC.      LAKE LA-4                   0.0   \n",
       "5372                CONRAD THEODORE J     THORP T-18                   0.0   \n",
       "5371                     CONNER LEROY           RV6A                   0.0   \n",
       "8950                         Fly Baby            1-A                   0.0   \n",
       "15468                           Pitts    SPECIAL 51C                   0.0   \n",
       "\n",
       "       Total.Serious.Injuries  Total.Minor.Injuries  Total_Injuries  \n",
       "10093                     0.0                   0.0             0.0  \n",
       "5377                      0.0                   0.0             0.0  \n",
       "12062                     0.0                   0.0             0.0  \n",
       "8949                      0.0                   0.0             0.0  \n",
       "5374                      0.0                   0.0             0.0  \n",
       "5373                      0.0                   0.0             0.0  \n",
       "5372                      0.0                   0.0             0.0  \n",
       "5371                      0.0                   0.0             0.0  \n",
       "8950                      0.0                   0.0             0.0  \n",
       "15468                     0.0                   0.0             0.0  "
      ]
     },
     "execution_count": 18,
     "metadata": {},
     "output_type": "execute_result"
    }
   ],
   "source": [
    "#Sort by 'Total_Injuries' to determine the aircrafts with the lowest risk\n",
    "\n",
    "low_risk_models = injury_info.sort_values(by = 'Total_Injuries')\n",
    "low_risk_models.head(10)"
   ]
  },
  {
   "cell_type": "code",
   "execution_count": 19,
   "id": "78cf5863",
   "metadata": {},
   "outputs": [],
   "source": [
    "#Sort by 'Total_Injuries' to determine the aircrafts makes and models with the highest risk\n",
    "\n",
    "high_risk_models = injury_info.sort_values(by = 'Total_Injuries', ascending = False).head(10)"
   ]
  },
  {
   "cell_type": "code",
   "execution_count": 20,
   "id": "2cb77da8",
   "metadata": {},
   "outputs": [],
   "source": [
    "#Export the data to excel for visualization in Tableau\n",
    "low_risk_models.to_excel('aviation_risk_data.xlsx', index=False)"
   ]
  },
  {
   "cell_type": "code",
   "execution_count": 21,
   "id": "481fa38f",
   "metadata": {
    "scrolled": true
   },
   "outputs": [
    {
     "data": {
      "image/png": "[encoded data removed]",
      "text/plain": [
       "<Figure size 1200x800 with 1 Axes>"
      ]
     },
     "metadata": {},
     "output_type": "display_data"
    }
   ],
   "source": [
    "# Plotting the data\n",
    "# High Risk Models\n",
    "plt.figure(figsize=(12, 8))\n",
    "\n",
    "plt.barh(high_risk_models['Make'] + ' ' + high_risk_models['Model'], high_risk_models['Total_Injuries'], color='red')\n",
    "plt.xlabel('Total Injuries')\n",
    "plt.ylabel('Make and Model')\n",
    "plt.title('Top 10 High Risk Aircraft Makes and Models')\n",
    "plt.gca().invert_yaxis()  # Invert y-axis to have the highest risk on top\n",
    "\n",
    "plt.savefig('Top 10 High Risk Aircraft Makes and Models.jpg', format='jpg')"
   ]
  },
  {
   "cell_type": "markdown",
   "id": "6828f8df",
   "metadata": {},
   "source": [
    "This analysis shows that various models of the Cessna and Piper makes are high risk, in that they have caused the most number of injuries. Certain traits, such as older designs, higher usage rates, or involvement in particular flight types (e.g., commercial or high-stress contexts), may be shared by high-risk models. This will be further investigated.\n",
    "\n",
    "This analysis also demonstrates that various models of the Cirrus and Cernia makes have no recorded injuries, which means they are very low risk makes. In low-stress or private flight circumstances, where the likelihood of severe incidents is lower, low-risk models might be utilized more frequently. It is also assumed that these models may be better maintained than the high-risk ones, or they may be more recent versions with enhanced safety measures."
   ]
  },
  {
   "cell_type": "markdown",
   "id": "4b975bdc",
   "metadata": {},
   "source": [
    "### 2.2 Survivability Analysis by Aircraft Make \n",
    "\n",
    "This analysis aims to find out which aircraft makes have the best survivability rates—that is, the highest percentage of passengers who escape injury unharmed."
   ]
  },
  {
   "cell_type": "code",
   "execution_count": 22,
   "id": "b2832a88",
   "metadata": {},
   "outputs": [],
   "source": [
    "#Calculate the statistics of uninjured persons, by make and model\n",
    "\n",
    "survivor_info = aviation.groupby(['Make'])['Total.Uninjured'].sum().reset_index()"
   ]
  },
  {
   "cell_type": "code",
   "execution_count": 23,
   "id": "9f171be1",
   "metadata": {},
   "outputs": [],
   "source": [
    "# Sort the survivor_info dataframe by 'Total.Uninjured'\n",
    "\n",
    "highest_survivability_aircrafts = survivor_info.sort_values(by = 'Total.Uninjured', ascending = False).head(15)"
   ]
  },
  {
   "cell_type": "code",
   "execution_count": 24,
   "id": "781a81ed",
   "metadata": {},
   "outputs": [],
   "source": [
    "#Export the data to excel for visualization in Tableau\n",
    "highest_survivability_aircrafts.to_excel('highest_survivability_aircrafts.xlsx', index = False)"
   ]
  },
  {
   "cell_type": "code",
   "execution_count": 25,
   "id": "4cd9efe7",
   "metadata": {
    "scrolled": true
   },
   "outputs": [
    {
     "data": {
      "image/png": "[encoded data removed]",
      "text/plain": [
       "<Figure size 1200x800 with 1 Axes>"
      ]
     },
     "metadata": {},
     "output_type": "display_data"
    },
    {
     "data": {
      "text/plain": [
       "<Figure size 640x480 with 0 Axes>"
      ]
     },
     "metadata": {},
     "output_type": "display_data"
    }
   ],
   "source": [
    "# Plot the aircraft makes with the highest survivability rates\n",
    "plt.figure(figsize=(12, 8))\n",
    "plt.barh(highest_survivability_aircrafts['Make'] , highest_survivability_aircrafts['Total.Uninjured'], color='skyblue', edgecolor = 'brown')\n",
    "\n",
    "plt.xlabel('Total Uninjured Passengers')\n",
    "plt.ylabel('Aircraft Make')\n",
    "plt.title('Top 15 Aircraft with the highest survivability')\n",
    "plt.gca().invert_yaxis()  # Invert y-axis to have the highest value on top\n",
    "plt.show()\n",
    "\n",
    "plt.savefig('Top 15 Aircraft with the highest survivability.jpg', format='jpg')"
   ]
  },
  {
   "cell_type": "markdown",
   "id": "4aa52524",
   "metadata": {},
   "source": [
    "This analysis shows that Boeing has the highest survivability rates, and the previous analysis has not listed it as one of the top 10 high risk aircraft makes. \n",
    "\n",
    "This implies that the crew and passengers are well protected by their aircraft designs in the event of an incident. This may be due to superior safety features, robust construction, and effective emergency systems."
   ]
  },
  {
   "cell_type": "markdown",
   "id": "b6d242eb",
   "metadata": {},
   "source": [
    "### 2.3 Incident Frequency by Aircraft Make\n",
    "\n",
    "With this analysis, we will identify which aircraft makes are involved in the fewest or most incidents."
   ]
  },
  {
   "cell_type": "code",
   "execution_count": 26,
   "id": "ed2cc482",
   "metadata": {},
   "outputs": [
    {
     "data": {
      "text/html": [
       "<div>\n",
       "<style scoped>\n",
       "    .dataframe tbody tr th:only-of-type {\n",
       "        vertical-align: middle;\n",
       "    }\n",
       "\n",
       "    .dataframe tbody tr th {\n",
       "        vertical-align: top;\n",
       "    }\n",
       "\n",
       "    .dataframe thead th {\n",
       "        text-align: right;\n",
       "    }\n",
       "</style>\n",
       "<table border=\"1\" class=\"dataframe\">\n",
       "  <thead>\n",
       "    <tr style=\"text-align: right;\">\n",
       "      <th></th>\n",
       "      <th>Make</th>\n",
       "      <th>Incident.Count</th>\n",
       "    </tr>\n",
       "  </thead>\n",
       "  <tbody>\n",
       "    <tr>\n",
       "      <th>0</th>\n",
       "      <td>107.5 Flying Corporation</td>\n",
       "      <td>1</td>\n",
       "    </tr>\n",
       "    <tr>\n",
       "      <th>1</th>\n",
       "      <td>1200</td>\n",
       "      <td>1</td>\n",
       "    </tr>\n",
       "    <tr>\n",
       "      <th>2</th>\n",
       "      <td>177MF LLC</td>\n",
       "      <td>1</td>\n",
       "    </tr>\n",
       "    <tr>\n",
       "      <th>3</th>\n",
       "      <td>1977 Colfer-chan</td>\n",
       "      <td>1</td>\n",
       "    </tr>\n",
       "    <tr>\n",
       "      <th>4</th>\n",
       "      <td>1st Ftr Gp</td>\n",
       "      <td>1</td>\n",
       "    </tr>\n",
       "  </tbody>\n",
       "</table>\n",
       "</div>"
      ],
      "text/plain": [
       "                       Make  Incident.Count\n",
       "0  107.5 Flying Corporation               1\n",
       "1                      1200               1\n",
       "2                 177MF LLC               1\n",
       "3          1977 Colfer-chan               1\n",
       "4                1st Ftr Gp               1"
      ]
     },
     "execution_count": 26,
     "metadata": {},
     "output_type": "execute_result"
    }
   ],
   "source": [
    "# Group by 'Make' and count incidents\n",
    "# Convert the Series to a DataFrame and name the count column Incident.Count.\n",
    "\n",
    "plane_make_incident_counts = aviation.groupby(['Make']).size().reset_index(name='Incident.Count')\n",
    "plane_make_incident_counts.head()"
   ]
  },
  {
   "cell_type": "code",
   "execution_count": 27,
   "id": "8f8ce922",
   "metadata": {},
   "outputs": [],
   "source": [
    "# Sort by the Incident.Count column in descending order to bring the models with the most incidents to the top.\n",
    "most_incidents_aircraft_makes = plane_make_incident_counts.sort_values(by = 'Incident.Count', ascending = False).head(15)"
   ]
  },
  {
   "cell_type": "code",
   "execution_count": 28,
   "id": "d574d45b",
   "metadata": {
    "scrolled": true
   },
   "outputs": [
    {
     "data": {
      "image/png": "[encoded data removed]",
      "text/plain": [
       "<Figure size 1200x800 with 1 Axes>"
      ]
     },
     "metadata": {},
     "output_type": "display_data"
    },
    {
     "data": {
      "text/plain": [
       "<Figure size 640x480 with 0 Axes>"
      ]
     },
     "metadata": {},
     "output_type": "display_data"
    }
   ],
   "source": [
    "# Plot using matplotlib\n",
    "plt.figure(figsize=(12, 8))\n",
    "plt.barh(most_incidents_aircraft_makes['Make'] , most_incidents_aircraft_makes['Incident.Count'], color='green')\n",
    "\n",
    "plt.xlabel('Incident Count')\n",
    "plt.ylabel('Aircraft Make and Model')\n",
    "plt.title('Top 15 Aircraft Makes with the highest Incident Counts')\n",
    "plt.gca().invert_yaxis()  # Invert y-axis to have the highest value on top\n",
    "plt.show()\n",
    "\n",
    "plt.savefig('Top 15 Aircraft Makes with the highest Incident Counts.jpg', format='jpg')"
   ]
  },
  {
   "cell_type": "markdown",
   "id": "09ac94a3",
   "metadata": {},
   "source": [
    "This analysis demonstrates that the Cessna and Piper aircraft makes have the most incident counts. From the first analysis, these two makes were also observed to be the most high risk aircraft makes. For the new venture the company plans to go into, these two models may not be the best to be considered."
   ]
  },
  {
   "cell_type": "code",
   "execution_count": 29,
   "id": "04028b73",
   "metadata": {},
   "outputs": [
    {
     "data": {
      "text/html": [
       "<div>\n",
       "<style scoped>\n",
       "    .dataframe tbody tr th:only-of-type {\n",
       "        vertical-align: middle;\n",
       "    }\n",
       "\n",
       "    .dataframe tbody tr th {\n",
       "        vertical-align: top;\n",
       "    }\n",
       "\n",
       "    .dataframe thead th {\n",
       "        text-align: right;\n",
       "    }\n",
       "</style>\n",
       "<table border=\"1\" class=\"dataframe\">\n",
       "  <thead>\n",
       "    <tr style=\"text-align: right;\">\n",
       "      <th></th>\n",
       "      <th>Make</th>\n",
       "      <th>Incident.Count</th>\n",
       "    </tr>\n",
       "  </thead>\n",
       "  <tbody>\n",
       "    <tr>\n",
       "      <th>0</th>\n",
       "      <td>107.5 Flying Corporation</td>\n",
       "      <td>1</td>\n",
       "    </tr>\n",
       "    <tr>\n",
       "      <th>5170</th>\n",
       "      <td>Mingess-bennett</td>\n",
       "      <td>1</td>\n",
       "    </tr>\n",
       "    <tr>\n",
       "      <th>5169</th>\n",
       "      <td>Miner</td>\n",
       "      <td>1</td>\n",
       "    </tr>\n",
       "    <tr>\n",
       "      <th>5168</th>\n",
       "      <td>Mince</td>\n",
       "      <td>1</td>\n",
       "    </tr>\n",
       "    <tr>\n",
       "      <th>5167</th>\n",
       "      <td>Miltenberger</td>\n",
       "      <td>1</td>\n",
       "    </tr>\n",
       "    <tr>\n",
       "      <th>...</th>\n",
       "      <td>...</td>\n",
       "      <td>...</td>\n",
       "    </tr>\n",
       "    <tr>\n",
       "      <th>5608</th>\n",
       "      <td>PIPER</td>\n",
       "      <td>2841</td>\n",
       "    </tr>\n",
       "    <tr>\n",
       "      <th>936</th>\n",
       "      <td>Beech</td>\n",
       "      <td>4330</td>\n",
       "    </tr>\n",
       "    <tr>\n",
       "      <th>1320</th>\n",
       "      <td>CESSNA</td>\n",
       "      <td>4922</td>\n",
       "    </tr>\n",
       "    <tr>\n",
       "      <th>5795</th>\n",
       "      <td>Piper</td>\n",
       "      <td>12029</td>\n",
       "    </tr>\n",
       "    <tr>\n",
       "      <th>1567</th>\n",
       "      <td>Cessna</td>\n",
       "      <td>22227</td>\n",
       "    </tr>\n",
       "  </tbody>\n",
       "</table>\n",
       "<p>8237 rows × 2 columns</p>\n",
       "</div>"
      ],
      "text/plain": [
       "                          Make  Incident.Count\n",
       "0     107.5 Flying Corporation               1\n",
       "5170           Mingess-bennett               1\n",
       "5169                     Miner               1\n",
       "5168                     Mince               1\n",
       "5167              Miltenberger               1\n",
       "...                        ...             ...\n",
       "5608                     PIPER            2841\n",
       "936                      Beech            4330\n",
       "1320                    CESSNA            4922\n",
       "5795                     Piper           12029\n",
       "1567                    Cessna           22227\n",
       "\n",
       "[8237 rows x 2 columns]"
      ]
     },
     "execution_count": 29,
     "metadata": {},
     "output_type": "execute_result"
    }
   ],
   "source": [
    "# Sort by the Incident.Count column in ascending order to bring the models with the fewest incidents to the top.\n",
    "fewest_incidents_aircraft_make = plane_make_incident_counts.sort_values(by = 'Incident.Count')\n",
    "fewest_incidents_aircraft_make"
   ]
  },
  {
   "cell_type": "code",
   "execution_count": 30,
   "id": "509a0550",
   "metadata": {},
   "outputs": [],
   "source": [
    "#Export the data to excel for visualization in Tableau\n",
    "fewest_incidents_aircraft_make.to_excel('fewest_incidents_aircraft_makes.xlsx', index=False)"
   ]
  },
  {
   "cell_type": "code",
   "execution_count": 31,
   "id": "1481fdd4",
   "metadata": {},
   "outputs": [],
   "source": [
    "#Export the data to excel for visualization in Tableau\n",
    "most_incidents_aircraft_makes.to_excel('Aircraft_makes_with_most_incidents.xlsx', index = False)"
   ]
  },
  {
   "cell_type": "markdown",
   "id": "0b15ba4d",
   "metadata": {},
   "source": [
    "### 2.4 Time Trend Analysis of Incidents\n",
    "\n",
    "With this analysis, we shall examine the temporal patterns to determine the number of people involved in incidents per year, and how this has changed over time"
   ]
  },
  {
   "cell_type": "code",
   "execution_count": 32,
   "id": "f2ca02a5",
   "metadata": {},
   "outputs": [],
   "source": [
    "#Extract the year from the 'Event.Date' column\n",
    "aviation['Year'] = aviation['Event.Date'].dt.year"
   ]
  },
  {
   "cell_type": "code",
   "execution_count": 33,
   "id": "0e4e02c2",
   "metadata": {
    "scrolled": true
   },
   "outputs": [],
   "source": [
    "# Filter the DataFrame to include only incidents from 1982 onwards\n",
    "aviation_filtered = aviation[aviation['Year'] >= 1982]\n",
    "\n",
    "#Count incidents per year\n",
    "temporal_incident_info = aviation_filtered.groupby(['Year']).size().reset_index(name='Incident.Count')"
   ]
  },
  {
   "cell_type": "code",
   "execution_count": 34,
   "id": "5b2f19d5",
   "metadata": {},
   "outputs": [],
   "source": [
    "temporal_incident_info.to_excel('temporal_incident_info.xlsx', index = False)"
   ]
  },
  {
   "cell_type": "code",
   "execution_count": 35,
   "id": "09ad55b3",
   "metadata": {
    "scrolled": true
   },
   "outputs": [
    {
     "data": {
      "image/png": "[encoded data removed]",
      "text/plain": [
       "<Figure size 1200x600 with 1 Axes>"
      ]
     },
     "metadata": {},
     "output_type": "display_data"
    },
    {
     "data": {
      "text/plain": [
       "<Figure size 640x480 with 0 Axes>"
      ]
     },
     "metadata": {},
     "output_type": "display_data"
    }
   ],
   "source": [
    "# Plot the temporal incident information using matplotlib\n",
    "plt.figure(figsize=(12, 6))\n",
    "plt.plot(temporal_incident_info['Year'], temporal_incident_info['Incident.Count'], marker='o')\n",
    "\n",
    "plt.xlabel('Year')\n",
    "plt.ylabel('Incident Count')\n",
    "plt.title('Incident Count Over Time')\n",
    "plt.grid(True)\n",
    "plt.show()\n",
    "\n",
    "plt.savefig('Incident Count Over Time.jpg', format='jpg')"
   ]
  },
  {
   "cell_type": "markdown",
   "id": "3f1b79bc",
   "metadata": {},
   "source": [
    "The trend analysis shows that airplane incidents have been on a gradual decline over the years. This can be attributed to various factors including advanced technology that enhances crew and passenger safety, better maintenance strategies, improved air traffic management, among other factors."
   ]
  },
  {
   "cell_type": "markdown",
   "id": "c129e02f",
   "metadata": {},
   "source": [
    "### 2.5 Injury Severity by Broad Phase of Flight\n",
    "\n",
    "This analysis will investigate which flight phases—such as takeoff, cruise, and landing—seem to cause the greatest injuries."
   ]
  },
  {
   "cell_type": "code",
   "execution_count": 36,
   "id": "ea1c3f70",
   "metadata": {},
   "outputs": [
    {
     "data": {
      "text/html": [
       "<div>\n",
       "<style scoped>\n",
       "    .dataframe tbody tr th:only-of-type {\n",
       "        vertical-align: middle;\n",
       "    }\n",
       "\n",
       "    .dataframe tbody tr th {\n",
       "        vertical-align: top;\n",
       "    }\n",
       "\n",
       "    .dataframe thead th {\n",
       "        text-align: right;\n",
       "    }\n",
       "</style>\n",
       "<table border=\"1\" class=\"dataframe\">\n",
       "  <thead>\n",
       "    <tr style=\"text-align: right;\">\n",
       "      <th></th>\n",
       "      <th>Broad.phase.of.flight</th>\n",
       "      <th>Total.Fatal.Injuries</th>\n",
       "      <th>Total.Serious.Injuries</th>\n",
       "      <th>Total.Minor.Injuries</th>\n",
       "    </tr>\n",
       "  </thead>\n",
       "  <tbody>\n",
       "    <tr>\n",
       "      <th>0</th>\n",
       "      <td>Approach</td>\n",
       "      <td>3842.0</td>\n",
       "      <td>1920.0</td>\n",
       "      <td>2526.0</td>\n",
       "    </tr>\n",
       "    <tr>\n",
       "      <th>1</th>\n",
       "      <td>Climb</td>\n",
       "      <td>1762.0</td>\n",
       "      <td>606.0</td>\n",
       "      <td>962.0</td>\n",
       "    </tr>\n",
       "    <tr>\n",
       "      <th>2</th>\n",
       "      <td>Cruise</td>\n",
       "      <td>6173.0</td>\n",
       "      <td>2183.0</td>\n",
       "      <td>4531.0</td>\n",
       "    </tr>\n",
       "    <tr>\n",
       "      <th>3</th>\n",
       "      <td>Descent</td>\n",
       "      <td>913.0</td>\n",
       "      <td>473.0</td>\n",
       "      <td>998.0</td>\n",
       "    </tr>\n",
       "    <tr>\n",
       "      <th>4</th>\n",
       "      <td>Go-around</td>\n",
       "      <td>587.0</td>\n",
       "      <td>388.0</td>\n",
       "      <td>622.0</td>\n",
       "    </tr>\n",
       "  </tbody>\n",
       "</table>\n",
       "</div>"
      ],
      "text/plain": [
       "  Broad.phase.of.flight  Total.Fatal.Injuries  Total.Serious.Injuries  \\\n",
       "0              Approach                3842.0                  1920.0   \n",
       "1                 Climb                1762.0                   606.0   \n",
       "2                Cruise                6173.0                  2183.0   \n",
       "3               Descent                 913.0                   473.0   \n",
       "4             Go-around                 587.0                   388.0   \n",
       "\n",
       "   Total.Minor.Injuries  \n",
       "0                2526.0  \n",
       "1                 962.0  \n",
       "2                4531.0  \n",
       "3                 998.0  \n",
       "4                 622.0  "
      ]
     },
     "execution_count": 36,
     "metadata": {},
     "output_type": "execute_result"
    }
   ],
   "source": [
    "#Calculate injury statistics by Phase of Flight\n",
    "phase_info = aviation.groupby('Broad.phase.of.flight').agg({\n",
    "    'Total.Fatal.Injuries': 'sum',\n",
    "    'Total.Serious.Injuries': 'sum',\n",
    "    'Total.Minor.Injuries': 'sum'\n",
    "}).reset_index()\n",
    "\n",
    "phase_info.head()"
   ]
  },
  {
   "cell_type": "code",
   "execution_count": 37,
   "id": "66cef6cb",
   "metadata": {},
   "outputs": [],
   "source": [
    "#Create a new column in the new dataframe to show the total injuries\n",
    "phase_info['Total.Injuries'] = phase_info[['Total.Fatal.Injuries', 'Total.Serious.Injuries', 'Total.Minor.Injuries']].sum(axis=1)"
   ]
  },
  {
   "cell_type": "code",
   "execution_count": 38,
   "id": "d23a8dff",
   "metadata": {},
   "outputs": [
    {
     "data": {
      "text/html": [
       "<div>\n",
       "<style scoped>\n",
       "    .dataframe tbody tr th:only-of-type {\n",
       "        vertical-align: middle;\n",
       "    }\n",
       "\n",
       "    .dataframe tbody tr th {\n",
       "        vertical-align: top;\n",
       "    }\n",
       "\n",
       "    .dataframe thead th {\n",
       "        text-align: right;\n",
       "    }\n",
       "</style>\n",
       "<table border=\"1\" class=\"dataframe\">\n",
       "  <thead>\n",
       "    <tr style=\"text-align: right;\">\n",
       "      <th></th>\n",
       "      <th>Broad.phase.of.flight</th>\n",
       "      <th>Total.Fatal.Injuries</th>\n",
       "      <th>Total.Serious.Injuries</th>\n",
       "      <th>Total.Minor.Injuries</th>\n",
       "      <th>Total.Injuries</th>\n",
       "    </tr>\n",
       "  </thead>\n",
       "  <tbody>\n",
       "    <tr>\n",
       "      <th>7</th>\n",
       "      <td>Other</td>\n",
       "      <td>85.0</td>\n",
       "      <td>13.0</td>\n",
       "      <td>21.0</td>\n",
       "      <td>119.0</td>\n",
       "    </tr>\n",
       "    <tr>\n",
       "      <th>10</th>\n",
       "      <td>Taxi</td>\n",
       "      <td>102.0</td>\n",
       "      <td>111.0</td>\n",
       "      <td>501.0</td>\n",
       "      <td>714.0</td>\n",
       "    </tr>\n",
       "    <tr>\n",
       "      <th>8</th>\n",
       "      <td>Standing</td>\n",
       "      <td>161.0</td>\n",
       "      <td>241.0</td>\n",
       "      <td>397.0</td>\n",
       "      <td>799.0</td>\n",
       "    </tr>\n",
       "    <tr>\n",
       "      <th>4</th>\n",
       "      <td>Go-around</td>\n",
       "      <td>587.0</td>\n",
       "      <td>388.0</td>\n",
       "      <td>622.0</td>\n",
       "      <td>1597.0</td>\n",
       "    </tr>\n",
       "    <tr>\n",
       "      <th>3</th>\n",
       "      <td>Descent</td>\n",
       "      <td>913.0</td>\n",
       "      <td>473.0</td>\n",
       "      <td>998.0</td>\n",
       "      <td>2384.0</td>\n",
       "    </tr>\n",
       "    <tr>\n",
       "      <th>1</th>\n",
       "      <td>Climb</td>\n",
       "      <td>1762.0</td>\n",
       "      <td>606.0</td>\n",
       "      <td>962.0</td>\n",
       "      <td>3330.0</td>\n",
       "    </tr>\n",
       "    <tr>\n",
       "      <th>5</th>\n",
       "      <td>Landing</td>\n",
       "      <td>518.0</td>\n",
       "      <td>1234.0</td>\n",
       "      <td>3209.0</td>\n",
       "      <td>4961.0</td>\n",
       "    </tr>\n",
       "    <tr>\n",
       "      <th>0</th>\n",
       "      <td>Approach</td>\n",
       "      <td>3842.0</td>\n",
       "      <td>1920.0</td>\n",
       "      <td>2526.0</td>\n",
       "      <td>8288.0</td>\n",
       "    </tr>\n",
       "    <tr>\n",
       "      <th>6</th>\n",
       "      <td>Maneuvering</td>\n",
       "      <td>5323.0</td>\n",
       "      <td>1912.0</td>\n",
       "      <td>1980.0</td>\n",
       "      <td>9215.0</td>\n",
       "    </tr>\n",
       "    <tr>\n",
       "      <th>9</th>\n",
       "      <td>Takeoff</td>\n",
       "      <td>4304.0</td>\n",
       "      <td>3138.0</td>\n",
       "      <td>4955.0</td>\n",
       "      <td>12397.0</td>\n",
       "    </tr>\n",
       "    <tr>\n",
       "      <th>2</th>\n",
       "      <td>Cruise</td>\n",
       "      <td>6173.0</td>\n",
       "      <td>2183.0</td>\n",
       "      <td>4531.0</td>\n",
       "      <td>12887.0</td>\n",
       "    </tr>\n",
       "  </tbody>\n",
       "</table>\n",
       "</div>"
      ],
      "text/plain": [
       "   Broad.phase.of.flight  Total.Fatal.Injuries  Total.Serious.Injuries  \\\n",
       "7                  Other                  85.0                    13.0   \n",
       "10                  Taxi                 102.0                   111.0   \n",
       "8               Standing                 161.0                   241.0   \n",
       "4              Go-around                 587.0                   388.0   \n",
       "3                Descent                 913.0                   473.0   \n",
       "1                  Climb                1762.0                   606.0   \n",
       "5                Landing                 518.0                  1234.0   \n",
       "0               Approach                3842.0                  1920.0   \n",
       "6            Maneuvering                5323.0                  1912.0   \n",
       "9                Takeoff                4304.0                  3138.0   \n",
       "2                 Cruise                6173.0                  2183.0   \n",
       "\n",
       "    Total.Minor.Injuries  Total.Injuries  \n",
       "7                   21.0           119.0  \n",
       "10                 501.0           714.0  \n",
       "8                  397.0           799.0  \n",
       "4                  622.0          1597.0  \n",
       "3                  998.0          2384.0  \n",
       "1                  962.0          3330.0  \n",
       "5                 3209.0          4961.0  \n",
       "0                 2526.0          8288.0  \n",
       "6                 1980.0          9215.0  \n",
       "9                 4955.0         12397.0  \n",
       "2                 4531.0         12887.0  "
      ]
     },
     "execution_count": 38,
     "metadata": {},
     "output_type": "execute_result"
    }
   ],
   "source": [
    "#Sort by the Total.Injuries column in ascending order.\n",
    "phase_info = phase_info.sort_values(by = 'Total.Injuries')\n",
    "# # Filter the DataFrame to exclude records with 'Unknown' values\n",
    "phase_info = phase_info[phase_info['Broad.phase.of.flight'] != 'Unknown']\n",
    "phase_info"
   ]
  },
  {
   "cell_type": "code",
   "execution_count": 39,
   "id": "7a975fcd",
   "metadata": {},
   "outputs": [],
   "source": [
    "#Export the data to excel for visualization in Tableau\n",
    "phase_info.to_excel('phase_info.xlsx', index = False)"
   ]
  },
  {
   "cell_type": "code",
   "execution_count": 40,
   "id": "e547fa8a",
   "metadata": {
    "scrolled": true
   },
   "outputs": [
    {
     "data": {
      "image/png": "[encoded data removed]",
      "text/plain": [
       "<Figure size 1200x600 with 1 Axes>"
      ]
     },
     "metadata": {},
     "output_type": "display_data"
    },
    {
     "data": {
      "text/plain": [
       "<Figure size 640x480 with 0 Axes>"
      ]
     },
     "metadata": {},
     "output_type": "display_data"
    }
   ],
   "source": [
    "#Visualize the number of injuries that have occurred in various phases of flight\n",
    "# Plot using matplotlib\n",
    "plt.figure(figsize=(12, 6))\n",
    "plt.barh(phase_info['Broad.phase.of.flight'], phase_info['Total.Injuries'], color='orange', edgecolor='black')\n",
    "\n",
    "plt.xlabel('Total Injuries')\n",
    "plt.ylabel('Phase of Flight')\n",
    "plt.title('Proportion of injuries by Phase of flight')\n",
    "plt.xticks(rotation=45)\n",
    "plt.show()\n",
    "\n",
    "plt.savefig('Proportion of injuries by Phase of flight.jpg', format='jpg')"
   ]
  },
  {
   "cell_type": "markdown",
   "id": "2b2a0f09",
   "metadata": {},
   "source": [
    "The analysis to understand the relation between phase of flight and total injuries reveals that most passenger injuries occur during the cruise and take-off phases. A fairly large portion of injuries also occur in the maneuvering and approach phases. \n",
    "\n",
    "This analysis therefore higlights the importance of focusing on safety during the takeoff, cruise, maneuvering and approach phases of flight."
   ]
  },
  {
   "cell_type": "markdown",
   "id": "b9058146",
   "metadata": {},
   "source": [
    "### 2.6 Analysis of risks associated with Purpose of Flight\n",
    "\n",
    "This analysis looks into the risk associated with different purposes of flights (e.g., commercial, private)."
   ]
  },
  {
   "cell_type": "code",
   "execution_count": 41,
   "id": "4b594598",
   "metadata": {},
   "outputs": [],
   "source": [
    "#Calculate injury statistics by Purpose of Flight\n",
    "purpose_info = aviation.groupby('Purpose.of.flight').agg({\n",
    "    'Total.Fatal.Injuries': 'sum',\n",
    "    'Total.Serious.Injuries': 'sum',\n",
    "    'Total.Minor.Injuries': 'sum'\n",
    "}).reset_index()"
   ]
  },
  {
   "cell_type": "code",
   "execution_count": 42,
   "id": "68f5a12d",
   "metadata": {
    "scrolled": true
   },
   "outputs": [
    {
     "data": {
      "text/html": [
       "<div>\n",
       "<style scoped>\n",
       "    .dataframe tbody tr th:only-of-type {\n",
       "        vertical-align: middle;\n",
       "    }\n",
       "\n",
       "    .dataframe tbody tr th {\n",
       "        vertical-align: top;\n",
       "    }\n",
       "\n",
       "    .dataframe thead th {\n",
       "        text-align: right;\n",
       "    }\n",
       "</style>\n",
       "<table border=\"1\" class=\"dataframe\">\n",
       "  <thead>\n",
       "    <tr style=\"text-align: right;\">\n",
       "      <th></th>\n",
       "      <th>Purpose.of.flight</th>\n",
       "      <th>Total.Fatal.Injuries</th>\n",
       "      <th>Total.Serious.Injuries</th>\n",
       "      <th>Total.Minor.Injuries</th>\n",
       "      <th>Total.Injuries</th>\n",
       "    </tr>\n",
       "  </thead>\n",
       "  <tbody>\n",
       "    <tr>\n",
       "      <th>0</th>\n",
       "      <td>ASHO</td>\n",
       "      <td>14.0</td>\n",
       "      <td>1.0</td>\n",
       "      <td>0.0</td>\n",
       "      <td>15.0</td>\n",
       "    </tr>\n",
       "    <tr>\n",
       "      <th>1</th>\n",
       "      <td>Aerial Application</td>\n",
       "      <td>549.0</td>\n",
       "      <td>595.0</td>\n",
       "      <td>794.0</td>\n",
       "      <td>1938.0</td>\n",
       "    </tr>\n",
       "    <tr>\n",
       "      <th>2</th>\n",
       "      <td>Aerial Observation</td>\n",
       "      <td>414.0</td>\n",
       "      <td>318.0</td>\n",
       "      <td>321.0</td>\n",
       "      <td>1053.0</td>\n",
       "    </tr>\n",
       "    <tr>\n",
       "      <th>3</th>\n",
       "      <td>Air Drop</td>\n",
       "      <td>10.0</td>\n",
       "      <td>4.0</td>\n",
       "      <td>2.0</td>\n",
       "      <td>16.0</td>\n",
       "    </tr>\n",
       "    <tr>\n",
       "      <th>4</th>\n",
       "      <td>Air Race show</td>\n",
       "      <td>42.0</td>\n",
       "      <td>16.0</td>\n",
       "      <td>20.0</td>\n",
       "      <td>78.0</td>\n",
       "    </tr>\n",
       "    <tr>\n",
       "      <th>5</th>\n",
       "      <td>Air Race/show</td>\n",
       "      <td>34.0</td>\n",
       "      <td>21.0</td>\n",
       "      <td>10.0</td>\n",
       "      <td>65.0</td>\n",
       "    </tr>\n",
       "    <tr>\n",
       "      <th>6</th>\n",
       "      <td>Banner Tow</td>\n",
       "      <td>19.0</td>\n",
       "      <td>31.0</td>\n",
       "      <td>10.0</td>\n",
       "      <td>60.0</td>\n",
       "    </tr>\n",
       "    <tr>\n",
       "      <th>7</th>\n",
       "      <td>Business</td>\n",
       "      <td>2313.0</td>\n",
       "      <td>881.0</td>\n",
       "      <td>1106.0</td>\n",
       "      <td>4300.0</td>\n",
       "    </tr>\n",
       "    <tr>\n",
       "      <th>8</th>\n",
       "      <td>Executive/corporate</td>\n",
       "      <td>598.0</td>\n",
       "      <td>143.0</td>\n",
       "      <td>192.0</td>\n",
       "      <td>933.0</td>\n",
       "    </tr>\n",
       "    <tr>\n",
       "      <th>9</th>\n",
       "      <td>External Load</td>\n",
       "      <td>39.0</td>\n",
       "      <td>28.0</td>\n",
       "      <td>36.0</td>\n",
       "      <td>103.0</td>\n",
       "    </tr>\n",
       "    <tr>\n",
       "      <th>10</th>\n",
       "      <td>Ferry</td>\n",
       "      <td>386.0</td>\n",
       "      <td>112.0</td>\n",
       "      <td>216.0</td>\n",
       "      <td>714.0</td>\n",
       "    </tr>\n",
       "    <tr>\n",
       "      <th>11</th>\n",
       "      <td>Firefighting</td>\n",
       "      <td>37.0</td>\n",
       "      <td>6.0</td>\n",
       "      <td>9.0</td>\n",
       "      <td>52.0</td>\n",
       "    </tr>\n",
       "    <tr>\n",
       "      <th>12</th>\n",
       "      <td>Flight Test</td>\n",
       "      <td>130.0</td>\n",
       "      <td>90.0</td>\n",
       "      <td>86.0</td>\n",
       "      <td>306.0</td>\n",
       "    </tr>\n",
       "    <tr>\n",
       "      <th>13</th>\n",
       "      <td>Glider Tow</td>\n",
       "      <td>16.0</td>\n",
       "      <td>11.0</td>\n",
       "      <td>7.0</td>\n",
       "      <td>34.0</td>\n",
       "    </tr>\n",
       "    <tr>\n",
       "      <th>14</th>\n",
       "      <td>Instructional</td>\n",
       "      <td>1913.0</td>\n",
       "      <td>1532.0</td>\n",
       "      <td>2062.0</td>\n",
       "      <td>5507.0</td>\n",
       "    </tr>\n",
       "    <tr>\n",
       "      <th>15</th>\n",
       "      <td>Other Work Use</td>\n",
       "      <td>511.0</td>\n",
       "      <td>414.0</td>\n",
       "      <td>541.0</td>\n",
       "      <td>1466.0</td>\n",
       "    </tr>\n",
       "    <tr>\n",
       "      <th>16</th>\n",
       "      <td>PUBL</td>\n",
       "      <td>0.0</td>\n",
       "      <td>0.0</td>\n",
       "      <td>0.0</td>\n",
       "      <td>0.0</td>\n",
       "    </tr>\n",
       "    <tr>\n",
       "      <th>17</th>\n",
       "      <td>PUBS</td>\n",
       "      <td>0.0</td>\n",
       "      <td>0.0</td>\n",
       "      <td>2.0</td>\n",
       "      <td>2.0</td>\n",
       "    </tr>\n",
       "    <tr>\n",
       "      <th>18</th>\n",
       "      <td>Personal</td>\n",
       "      <td>18762.0</td>\n",
       "      <td>10611.0</td>\n",
       "      <td>12959.0</td>\n",
       "      <td>42332.0</td>\n",
       "    </tr>\n",
       "    <tr>\n",
       "      <th>19</th>\n",
       "      <td>Positioning</td>\n",
       "      <td>635.0</td>\n",
       "      <td>241.0</td>\n",
       "      <td>303.0</td>\n",
       "      <td>1179.0</td>\n",
       "    </tr>\n",
       "    <tr>\n",
       "      <th>20</th>\n",
       "      <td>Public Aircraft</td>\n",
       "      <td>406.0</td>\n",
       "      <td>189.0</td>\n",
       "      <td>244.0</td>\n",
       "      <td>839.0</td>\n",
       "    </tr>\n",
       "    <tr>\n",
       "      <th>21</th>\n",
       "      <td>Public Aircraft - Federal</td>\n",
       "      <td>41.0</td>\n",
       "      <td>24.0</td>\n",
       "      <td>31.0</td>\n",
       "      <td>96.0</td>\n",
       "    </tr>\n",
       "    <tr>\n",
       "      <th>22</th>\n",
       "      <td>Public Aircraft - Local</td>\n",
       "      <td>13.0</td>\n",
       "      <td>49.0</td>\n",
       "      <td>19.0</td>\n",
       "      <td>81.0</td>\n",
       "    </tr>\n",
       "    <tr>\n",
       "      <th>23</th>\n",
       "      <td>Public Aircraft - State</td>\n",
       "      <td>23.0</td>\n",
       "      <td>26.0</td>\n",
       "      <td>26.0</td>\n",
       "      <td>75.0</td>\n",
       "    </tr>\n",
       "    <tr>\n",
       "      <th>24</th>\n",
       "      <td>Skydiving</td>\n",
       "      <td>234.0</td>\n",
       "      <td>90.0</td>\n",
       "      <td>57.0</td>\n",
       "      <td>381.0</td>\n",
       "    </tr>\n",
       "    <tr>\n",
       "      <th>25</th>\n",
       "      <td>Unknown</td>\n",
       "      <td>23062.0</td>\n",
       "      <td>5944.0</td>\n",
       "      <td>8425.0</td>\n",
       "      <td>37431.0</td>\n",
       "    </tr>\n",
       "  </tbody>\n",
       "</table>\n",
       "</div>"
      ],
      "text/plain": [
       "            Purpose.of.flight  Total.Fatal.Injuries  Total.Serious.Injuries  \\\n",
       "0                        ASHO                  14.0                     1.0   \n",
       "1          Aerial Application                 549.0                   595.0   \n",
       "2          Aerial Observation                 414.0                   318.0   \n",
       "3                    Air Drop                  10.0                     4.0   \n",
       "4               Air Race show                  42.0                    16.0   \n",
       "5               Air Race/show                  34.0                    21.0   \n",
       "6                  Banner Tow                  19.0                    31.0   \n",
       "7                    Business                2313.0                   881.0   \n",
       "8         Executive/corporate                 598.0                   143.0   \n",
       "9               External Load                  39.0                    28.0   \n",
       "10                      Ferry                 386.0                   112.0   \n",
       "11               Firefighting                  37.0                     6.0   \n",
       "12                Flight Test                 130.0                    90.0   \n",
       "13                 Glider Tow                  16.0                    11.0   \n",
       "14              Instructional                1913.0                  1532.0   \n",
       "15             Other Work Use                 511.0                   414.0   \n",
       "16                       PUBL                   0.0                     0.0   \n",
       "17                       PUBS                   0.0                     0.0   \n",
       "18                   Personal               18762.0                 10611.0   \n",
       "19                Positioning                 635.0                   241.0   \n",
       "20            Public Aircraft                 406.0                   189.0   \n",
       "21  Public Aircraft - Federal                  41.0                    24.0   \n",
       "22    Public Aircraft - Local                  13.0                    49.0   \n",
       "23    Public Aircraft - State                  23.0                    26.0   \n",
       "24                  Skydiving                 234.0                    90.0   \n",
       "25                    Unknown               23062.0                  5944.0   \n",
       "\n",
       "    Total.Minor.Injuries  Total.Injuries  \n",
       "0                    0.0            15.0  \n",
       "1                  794.0          1938.0  \n",
       "2                  321.0          1053.0  \n",
       "3                    2.0            16.0  \n",
       "4                   20.0            78.0  \n",
       "5                   10.0            65.0  \n",
       "6                   10.0            60.0  \n",
       "7                 1106.0          4300.0  \n",
       "8                  192.0           933.0  \n",
       "9                   36.0           103.0  \n",
       "10                 216.0           714.0  \n",
       "11                   9.0            52.0  \n",
       "12                  86.0           306.0  \n",
       "13                   7.0            34.0  \n",
       "14                2062.0          5507.0  \n",
       "15                 541.0          1466.0  \n",
       "16                   0.0             0.0  \n",
       "17                   2.0             2.0  \n",
       "18               12959.0         42332.0  \n",
       "19                 303.0          1179.0  \n",
       "20                 244.0           839.0  \n",
       "21                  31.0            96.0  \n",
       "22                  19.0            81.0  \n",
       "23                  26.0            75.0  \n",
       "24                  57.0           381.0  \n",
       "25                8425.0         37431.0  "
      ]
     },
     "execution_count": 42,
     "metadata": {},
     "output_type": "execute_result"
    }
   ],
   "source": [
    "#Create a new column in the new dataframe to show the total injuries\n",
    "purpose_info['Total.Injuries'] = purpose_info[['Total.Fatal.Injuries', 'Total.Serious.Injuries', 'Total.Minor.Injuries']].sum(axis=1)\n",
    "purpose_info"
   ]
  },
  {
   "cell_type": "code",
   "execution_count": 43,
   "id": "94d975c7",
   "metadata": {},
   "outputs": [],
   "source": [
    "#Export the data to excel for visualization in Tableau\n",
    "purpose_info.to_excel('purpose_info.xlsx', index = False)"
   ]
  },
  {
   "cell_type": "code",
   "execution_count": 44,
   "id": "0a5392c2",
   "metadata": {
    "scrolled": true
   },
   "outputs": [
    {
     "data": {
      "text/html": [
       "<div>\n",
       "<style scoped>\n",
       "    .dataframe tbody tr th:only-of-type {\n",
       "        vertical-align: middle;\n",
       "    }\n",
       "\n",
       "    .dataframe tbody tr th {\n",
       "        vertical-align: top;\n",
       "    }\n",
       "\n",
       "    .dataframe thead th {\n",
       "        text-align: right;\n",
       "    }\n",
       "</style>\n",
       "<table border=\"1\" class=\"dataframe\">\n",
       "  <thead>\n",
       "    <tr style=\"text-align: right;\">\n",
       "      <th></th>\n",
       "      <th>Purpose.of.flight</th>\n",
       "      <th>Total.Fatal.Injuries</th>\n",
       "      <th>Total.Serious.Injuries</th>\n",
       "      <th>Total.Minor.Injuries</th>\n",
       "      <th>Total.Injuries</th>\n",
       "    </tr>\n",
       "  </thead>\n",
       "  <tbody>\n",
       "    <tr>\n",
       "      <th>18</th>\n",
       "      <td>Personal</td>\n",
       "      <td>18762.0</td>\n",
       "      <td>10611.0</td>\n",
       "      <td>12959.0</td>\n",
       "      <td>42332.0</td>\n",
       "    </tr>\n",
       "    <tr>\n",
       "      <th>14</th>\n",
       "      <td>Instructional</td>\n",
       "      <td>1913.0</td>\n",
       "      <td>1532.0</td>\n",
       "      <td>2062.0</td>\n",
       "      <td>5507.0</td>\n",
       "    </tr>\n",
       "    <tr>\n",
       "      <th>7</th>\n",
       "      <td>Business</td>\n",
       "      <td>2313.0</td>\n",
       "      <td>881.0</td>\n",
       "      <td>1106.0</td>\n",
       "      <td>4300.0</td>\n",
       "    </tr>\n",
       "    <tr>\n",
       "      <th>1</th>\n",
       "      <td>Aerial Application</td>\n",
       "      <td>549.0</td>\n",
       "      <td>595.0</td>\n",
       "      <td>794.0</td>\n",
       "      <td>1938.0</td>\n",
       "    </tr>\n",
       "    <tr>\n",
       "      <th>15</th>\n",
       "      <td>Other Work Use</td>\n",
       "      <td>511.0</td>\n",
       "      <td>414.0</td>\n",
       "      <td>541.0</td>\n",
       "      <td>1466.0</td>\n",
       "    </tr>\n",
       "    <tr>\n",
       "      <th>19</th>\n",
       "      <td>Positioning</td>\n",
       "      <td>635.0</td>\n",
       "      <td>241.0</td>\n",
       "      <td>303.0</td>\n",
       "      <td>1179.0</td>\n",
       "    </tr>\n",
       "    <tr>\n",
       "      <th>2</th>\n",
       "      <td>Aerial Observation</td>\n",
       "      <td>414.0</td>\n",
       "      <td>318.0</td>\n",
       "      <td>321.0</td>\n",
       "      <td>1053.0</td>\n",
       "    </tr>\n",
       "    <tr>\n",
       "      <th>8</th>\n",
       "      <td>Executive/corporate</td>\n",
       "      <td>598.0</td>\n",
       "      <td>143.0</td>\n",
       "      <td>192.0</td>\n",
       "      <td>933.0</td>\n",
       "    </tr>\n",
       "    <tr>\n",
       "      <th>20</th>\n",
       "      <td>Public Aircraft</td>\n",
       "      <td>406.0</td>\n",
       "      <td>189.0</td>\n",
       "      <td>244.0</td>\n",
       "      <td>839.0</td>\n",
       "    </tr>\n",
       "  </tbody>\n",
       "</table>\n",
       "</div>"
      ],
      "text/plain": [
       "      Purpose.of.flight  Total.Fatal.Injuries  Total.Serious.Injuries  \\\n",
       "18             Personal               18762.0                 10611.0   \n",
       "14        Instructional                1913.0                  1532.0   \n",
       "7              Business                2313.0                   881.0   \n",
       "1    Aerial Application                 549.0                   595.0   \n",
       "15       Other Work Use                 511.0                   414.0   \n",
       "19          Positioning                 635.0                   241.0   \n",
       "2    Aerial Observation                 414.0                   318.0   \n",
       "8   Executive/corporate                 598.0                   143.0   \n",
       "20      Public Aircraft                 406.0                   189.0   \n",
       "\n",
       "    Total.Minor.Injuries  Total.Injuries  \n",
       "18               12959.0         42332.0  \n",
       "14                2062.0          5507.0  \n",
       "7                 1106.0          4300.0  \n",
       "1                  794.0          1938.0  \n",
       "15                 541.0          1466.0  \n",
       "19                 303.0          1179.0  \n",
       "2                  321.0          1053.0  \n",
       "8                  192.0           933.0  \n",
       "20                 244.0           839.0  "
      ]
     },
     "execution_count": 44,
     "metadata": {},
     "output_type": "execute_result"
    }
   ],
   "source": [
    "#Sort by the Total.Injuries column in descending order.\n",
    "purpose_info = purpose_info.sort_values(by = 'Total.Injuries', ascending = False).head(10)\n",
    "#Filter the DataFrame to exclude records with 'Unknown' values\n",
    "purpose_info = purpose_info[purpose_info['Purpose.of.flight'] != 'Unknown']\n",
    "purpose_info"
   ]
  },
  {
   "cell_type": "code",
   "execution_count": 45,
   "id": "c0fbda89",
   "metadata": {
    "scrolled": true
   },
   "outputs": [
    {
     "data": {
      "image/png": "[encoded data removed]",
      "text/plain": [
       "<Figure size 1200x600 with 1 Axes>"
      ]
     },
     "metadata": {},
     "output_type": "display_data"
    },
    {
     "data": {
      "text/plain": [
       "<Figure size 640x480 with 0 Axes>"
      ]
     },
     "metadata": {},
     "output_type": "display_data"
    }
   ],
   "source": [
    "#Visualize the top 10 purpose of flight that have had most injuries\n",
    "\n",
    "# Plot using matplotlib\n",
    "plt.figure(figsize=(12, 6))\n",
    "plt.bar(purpose_info['Purpose.of.flight'], purpose_info['Total.Injuries'], color='skyblue', edgecolor='grey')\n",
    "\n",
    "plt.xlabel('Purpose of Flight')\n",
    "plt.ylabel('Total Injuries')\n",
    "plt.title('Top 10 Purposes of Flight vs Total Injuries')\n",
    "plt.xticks(rotation=45)\n",
    "plt.show()\n",
    "\n",
    "plt.savefig('Top 10 Purposes of Flight vs Total Injuries.jpg', format='jpg')"
   ]
  },
  {
   "cell_type": "markdown",
   "id": "2fb1776b",
   "metadata": {},
   "source": [
    "When compared to other flight purposes, personal flights have a much higher total injury rate (42,332).\n",
    "This implies that personal flights may be the riskiest, most likely as a result of pilots' differing skill levels, less stringent safety regulations, or a greater number of flights.\n"
   ]
  },
  {
   "cell_type": "markdown",
   "id": "6ab7bb24",
   "metadata": {},
   "source": [
    "# 3. Conclusion"
   ]
  },
  {
   "cell_type": "markdown",
   "id": "7da85f00",
   "metadata": {},
   "source": [
    "From the analysis conducted on the aviation data, the following were observed:\n",
    "\n",
    "   1. Cessna and Piper aircraft makes are associated with the highest injury and icident rates\n",
    "   2. Boeing aircraft have higher survivability rates and are not listed among the top 10 high-risk aircraft makes. \n",
    "   3.  The trend analysis shows a gradual decline in airplane incidents over the years, reflecting improvements in aviation technology, safety protocols, and regulatory oversight.\n",
    "   4. Most injuries occur during Cruise and Take-Off phases, indicating critical points where enhanced safety measures are necessary. \n",
    "   5. Personal and Instructional Flight categories have the highest total injuries, indicating they are the most risky."
   ]
  },
  {
   "cell_type": "markdown",
   "id": "dc2613ba",
   "metadata": {},
   "source": [
    "# 4. Recommendation"
   ]
  },
  {
   "cell_type": "markdown",
   "id": "eb753851",
   "metadata": {},
   "source": [
    "1. **Focus on Low-Risk Models**\n",
    "\n",
    "For starting the new business endeavor, focusing on acquiring and operating low-risk models is advisable. These models have demonstrated better safety records, lower incidents of severe injuries and high survivability rates. A great example is Boeing. Aircraft makes to steer clear of include Cessna and Piper since these are associated with the highest incidents and injuries.\n",
    "\n",
    "2. **Risk Management for Private Flights**\n",
    "\n",
    "Since part of the new endeavor is to purpase and operate aircrafts for private purposes, it is of importance that extra attention be given to risk management strategies when operating private flights, seeing as personal flights are the most risky. \n",
    "This may include investing in advanced safety equipment, rigorous training programs, and strict safety protocols.\n",
    "\n",
    "3. **Enhanced Safety Protocols**\n",
    "\n",
    "It will be essential to instill a strong safety culture in the company. This covers routine incident investigations, safety audits, and incident reviews."
   ]
  },
  {
   "cell_type": "code",
   "execution_count": null,
   "id": "4eea71dd",
   "metadata": {},
   "outputs": [],
   "source": []
  }
 ],
 "metadata": {
  "kernelspec": {
   "display_name": "Python (learn-env)",
   "language": "python",
   "name": "learn-env"
  },
  "language_info": {
   "codemirror_mode": {
    "name": "ipython",
    "version": 3
   },
   "file_extension": ".py",
   "mimetype": "text/x-python",
   "name": "python",
   "nbconvert_exporter": "python",
   "pygments_lexer": "ipython3",
   "version": "3.11.9"
  }
 },
 "nbformat": 4,
 "nbformat_minor": 5
}
